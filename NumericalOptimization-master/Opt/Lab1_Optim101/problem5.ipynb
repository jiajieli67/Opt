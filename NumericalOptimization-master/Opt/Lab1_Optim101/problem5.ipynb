{
 "cells": [
  {
   "cell_type": "markdown",
   "metadata": {
    "collapsed": true
   },
   "source": [
    "# Problem 5\n",
    "\n",
    "\n",
    "The objective of Problem 5 is to minimize a polyhedral function $p$ on $\\mathbb{R}^2$ (unconstrained): \n",
    "\n",
    "$$\\begin{array}{rrcll}\n",
    "p: & \\mathbb{R}^2 & \\to &\\mathbb{R}\\\\\n",
    "& (x_1,x_2) & \\mapsto  &  \\left| x_1-3 \\right|  + 2\\left| x_2-1\\right| .\n",
    "\\end{array}$$\n",
    "<center><img src=\"Fig/5.png\" width=\"50%\"></center>"
   ]
  },
  {
   "cell_type": "markdown",
   "metadata": {},
   "source": [
    "### Function definition "
   ]
  },
  {
   "cell_type": "code",
   "execution_count": 1,
   "metadata": {
    "collapsed": true
   },
   "outputs": [],
   "source": [
    "##### Function definition\n",
    "def f(x):\n",
    "\tx1 = x[0]\n",
    "\tx2 = x[1]\n",
    "\treturn np.abs(x1-3)+2*np.abs(x2-1)\n",
    "####\n",
    "\n",
    "##### Plot parameters f\n",
    "x1_min = -0.5\n",
    "x1_max = 5.5\n",
    "x2_min = -0.5\n",
    "x2_max = 5.5\n",
    "nb_points = 200\n",
    "levels = [0.05,0.5,1,2,5]\n",
    "vmin = 0\n",
    "vmax = 5\n",
    "title = 'polyhedral'\n",
    "####"
   ]
  },
  {
   "cell_type": "markdown",
   "metadata": {
    "collapsed": true
   },
   "source": [
    "### Some parameters\n",
    "\n",
    "Before solving things numerically, some useful things can be computed:\n",
    "* Properties of $f$: lower bounds, Lipschitz constant of $\\nabla f$, strong convexity constant, etc\n",
    "* Good starting points (for hot starting e.g.)"
   ]
  },
  {
   "cell_type": "code",
   "execution_count": 2,
   "metadata": {
    "collapsed": true
   },
   "outputs": [],
   "source": [
    "###### Useful Parameters\n"
   ]
  },
  {
   "cell_type": "markdown",
   "metadata": {},
   "source": [
    "### Oracles\n",
    "\n",
    "Numerical optimization methods need callable *oracles* for properties of $f$, that is a function that, given a point $x$ in the domain of $f$, returns $f$ and/or gradient, Hessian of $f$ at point $x$. We talk about the *order* of an oracle as the number of differentiations given (0th order for just $f$, 1st order for the gradient, 2nd for gradient + Hessian).\n",
    "\n",
    "> Compute a first order oracle `f_grad`. Is it unique?\n"
   ]
  },
  {
   "cell_type": "code",
   "execution_count": 3,
   "metadata": {
    "collapsed": true
   },
   "outputs": [],
   "source": [
    "import numpy as np\n",
    "\n",
    "##### Gradient oracle\n",
    "def f_grad(x):\n",
    "\n",
    "\treturn g ### To complete\n",
    "####"
   ]
  },
  {
   "cell_type": "markdown",
   "metadata": {},
   "source": [
    "> What about a second order oracle?"
   ]
  },
  {
   "cell_type": "code",
   "execution_count": null,
   "metadata": {
    "collapsed": true
   },
   "outputs": [],
   "source": []
  }
 ],
 "metadata": {
  "kernelspec": {
   "display_name": "Python 2",
   "language": "python",
   "name": "python2"
  },
  "language_info": {
   "codemirror_mode": {
    "name": "ipython",
    "version": 2
   },
   "file_extension": ".py",
   "mimetype": "text/x-python",
   "name": "python",
   "nbconvert_exporter": "python",
   "pygments_lexer": "ipython2",
   "version": "2.7.6"
  }
 },
 "nbformat": 4,
 "nbformat_minor": 1
}
