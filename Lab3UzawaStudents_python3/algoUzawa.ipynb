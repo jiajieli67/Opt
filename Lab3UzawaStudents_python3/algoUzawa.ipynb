{
 "cells": [
  {
   "cell_type": "markdown",
   "metadata": {
    "collapsed": true
   },
   "source": [
    "# Uzawa algorithm\n",
    "\n",
    "In this notebook, we code the Uzawa algorithm.\n",
    "We consider here \n",
    "* Affine constraints (qualified)\n",
    "* Other (qualified) convex constraints may be tested but are out of the scope of the convergence theorem that we have proven"
   ]
  },
  {
   "cell_type": "markdown",
   "metadata": {
    "collapsed": true
   },
   "source": [
    "# 1. Uzawa algorithm\n",
    "\n",
    "For minimizing a differentiable function $f:\\mathbb{R}^n \\to \\mathbb{R}$, under affine constraints given:\n",
    "* the function to minimize `f`\n",
    "* a 1st order oracle `f_grad` (see `problem1.ipynb` for instance)\n",
    "* the $m$ constraints are given by `phi` in the form $\\phi(x)\\le 0$ ; affine constraints are in the form of a matrix `C` $m\\times n$ and a vector $d\\in\\mathbb{R}^m$, $\\phi(x)=C x - d$.\n",
    "* an initialization point `x0`\n",
    "* the sought precision `PREC` \n",
    "* a maximal number of iterations `ITE_MAX` \n",
    "\n",
    "\n",
    "%\n",
    "\n",
    "\n",
    "This algorithm perform iterations of the form\n",
    "\n",
    "Solve the minimization problem \n",
    "$$ x^{k} = \\mbox{arg}\\min_{x} J(x) + \\lambda^k \\cdot \\phi(x)$$\n",
    "or equivalently solve in $x_k$ with the Newton method\n",
    "$$ \\nabla J(x^{k}) + C^t \\lambda^k= 0 $$\n",
    "then one step of the projected gradient (projection onto $\\mathbb{R_+}^m$) \n",
    "$$ \\lambda^{k+1} = P\\left(\\lambda^k + \\rho \\phi(x^k)\\right) $$\n",
    "where $\\rho$ is a stepsize to choose and $P$ is the projector onto the positivity constraint set. \n",
    "\n",
    "\n",
    "<hr>\n",
    "\n",
    "\n",
    "For more general (qualified) convex constraints $\\phi_i, i=1,\\ldots,m$, the first part of the iteration is\n",
    "\n",
    "Solve in $x^k$ with the Newton method\n",
    "$$ \\nabla J(x^{k}) +  \\sum_{i=1}^m\\lambda^k_i \\nabla \\phi_i(x^{k})= 0 $$\n",
    "or in the vectorial form\n",
    "$$ \\nabla J(x^{k}) +  \\lambda^k \\cdot \\nabla \\phi(x^{k})= 0 $$\n",
    "the projected gradient step would be identical\n"
   ]
  },
  {
   "cell_type": "markdown",
   "metadata": {},
   "source": [
    "### 1.a. Uzawa method for affine constraints\n",
    "\n",
    "We consider the case of affine constraints. They are passed to the algorithm as a matrix. The stepsize is fixed over iterations and passed an argument `step` to the algorithm.\n",
    "\n",
    "> Fill the function below accordingly. Then, test you algorithm in `3_Optimization101.ipynb [Sec. 1a]` for Problem 1."
   ]
  },
  {
   "cell_type": "code",
   "execution_count": 1,
   "metadata": {
    "collapsed": true
   },
   "outputs": [],
   "source": [
    "import numpy as np\n",
    "import timeit\n",
    "\n",
    "def uzawa_affine_algorithm(f , lagrangian, lagrangian_grad_hessian,  phi, x0 , lambda0, rho , PREC , ITE_MAX):\n",
    "    xk = np.copy(x0)\n",
    "    lambdak = np.copy(lambda0)\n",
    "    print(\"x0 = \",xk)\n",
    "    g,H = lagrangian_grad_hessian(xk,lambdak) # we initialize both x and f_grad(x)\n",
    "    #stop = should be the verification of the KKT !!!!\n",
    "    stop1 = PREC*np.linalg.norm(g)\n",
    "    stop2 = PREC*np.dot(lambdak,phi(xk))\n",
    "\n",
    "    zerolambda = np.zeros_like(lambdak) #could be usefull... \n",
    "    zerox = np.zeros_like(xk)\n",
    "    \n",
    "    x_tab = np.copy(xk)\n",
    "    print(\"--------------------------\\n Constant Stepsize projected gradient\\n-------------------\\nSTART    -- stepsize = {:0}\".format(rho))\n",
    "    t_s =  timeit.default_timer()\n",
    "    for k in range(ITE_MAX):\n",
    "        # compute the min in x of L(x^k,lambda^k)=J(x^k) + sum_i lambda^k_i phi_(x_k)\n",
    "        # (solving with with the Newton method  \\nabla J(x_{k}) + C^t \\lambda_k= 0 )\n",
    "        # COMPLETE first the  newton_lagrangian_algo(lagrangian, lagrangian_grad_hessian, x0 , mu, PREC , ITE_MAX ) \n",
    "        # the Newton algorithm adapted to the lagrangian at FIXED mu (see appendix below)\n",
    "        xk=newton_lagrangian_algo(lagrangian, lagrangian_grad_hessian , xk , lambdak , PREC , ITE_MAX )\n",
    "        #######  ITERATION on lambda^k--> To complete by the projection onto the set \"x >= 0\"\n",
    "        ## lambdak = lambdak + rho * (np.dot(C, x) - d)\n",
    "        lambdak = lambdak + rho * phi(xk)\n",
    "        Projlambdak = np.maximum(lambdak,zerolambda)\n",
    "        lambdak=Projlambdak\n",
    "        ####### \n",
    "        x_tab = np.vstack((x_tab,xk))\n",
    "\n",
    "        #######  Why must the following stopping criteria be changed ? Propose a correct stopping rule\n",
    "# convergence test ??? Should be KKT\n",
    "        g,H = lagrangian_grad_hessian(xk,lambdak) # we initialize both x and f_grad(x)\n",
    "\n",
    "#        print(\"lambdak = ({:.2f})  \\n\".format(lambdak[0]))\n",
    "        print(\"xk = ({:.2f},{:.2f}) ; gradLangragian = ({:.2f},{:.2f}) \\n\".format(xk[0],xk[1],g[0],g[1]))\n",
    "        if (np.linalg.norm(g)<stop1 and np.dot(lambdak,phi(xk))<stop2): \n",
    "            break\n",
    "        \n",
    "\n",
    "    t_e =  timeit.default_timer()\n",
    "    print(\"FINISHED -- {:d} iterations / {:.6f}s -- final value: {:f} at point ({:.2f},{:.2f})\\n\\n\".format(k,t_e-t_s,f(xk),xk[0],xk[1]))\n",
    "    return lambdak,xk,x_tab"
   ]
  },
  {
   "cell_type": "markdown",
   "metadata": {},
   "source": [
    "### 1.b. Uzawa method for convex constraints\n",
    "\n",
    "We could consider the case of convex constraints. They are passed to the algorithm as a function $\\phi$, whose components are convex functions $phi_i, i=1,\\ldots,m$. \n",
    "The stepsize is fixed over iterations and passed an argument `step` to the algorithm.\n",
    "\n",
    "Obviously the gradient and the Hessian matrices of $J$ and $\\phi_i$ are necessary.\n",
    "\n",
    "> Could you use the previous function in its form to test more general (qualified) convex constraints ?\n",
    "\n",
    "\n"
   ]
  },
  {
   "cell_type": "markdown",
   "metadata": {
    "collapsed": true
   },
   "source": [
    "## 2. Annexe: Newton method for Min_x=L(x,mu) (Second Order algorithms)\n",
    "\n",
    "For minimizing according to $x$ a *twice* differentiable function \n",
    "$L(x,\\mu):\\mathbb{R}^n \\times \\mathbb{R}_+^m \\to \\mathbb{R}$,\n",
    "at fixed $\\mu$ given:\n",
    "* the function to minimize `Lagrangian(x,mu)`\n",
    "* a 2nd order oracle `Lagrangian_grad_hessian` (see `problem31.ipynb` for instance)\n",
    "* an initialization point `x0`\n",
    "* the fixed vector `mu`\n",
    "* the sought precision `PREC` \n",
    "* a maximal number of iterations `ITE_MAX` \n",
    "\n",
    "\n",
    "these algorithms perform iterations of the form\n",
    "$$ x^{k+1} = x^k - [\\nabla^2 L(x^k,\\mu) ]^{-1} \\nabla L(x^k,\\mu) .$$\n",
    "where the Hessian and gradient are according to $x$ at fixed $\\mu$"
   ]
  },
  {
   "cell_type": "code",
   "execution_count": 1,
   "metadata": {
    "collapsed": true
   },
   "outputs": [],
   "source": [
    "import numpy as np\n",
    "import timeit\n",
    "\n",
    "def newton_lagrangian_algo(lagrangian, lagrangian_grad_hessian , x0 , mu , PREC , ITE_MAX ):\n",
    "    x = np.copy(x0)\n",
    "    xp = np.copy(x0)\n",
    "    g0,H0 = lagrangian_grad_hessian(x0,mu)\n",
    "    stop = PREC\n",
    "    #### x_tab = np.copy(x)\n",
    "    print(\"------------------------------------\\nNewton's algorithm\\n------------------------------------\\nSTART\")\n",
    "    t_s =  timeit.default_timer()\n",
    "    for k in range(ITE_MAX):\n",
    "    \n",
    "        g,H = lagrangian_grad_hessian(xp,mu)\n",
    "        v = np.matmul(np.linalg.inv(H),g)\n",
    "       \n",
    "        x = xp - v   #######  ITERATION -> to complete\n",
    "\n",
    "        #### x_tab = np.vstack((x_tab,x))\n",
    "        \n",
    "        if np.linalg.norm(x-xp) < stop:\n",
    "            break\n",
    "        xp = x\n",
    "    t_e =  timeit.default_timer()\n",
    "    print(\"Newton FINISHED -- {:d} iterations / {:.6f}s -- langrangian final value: {:f} at point x ({:.2f},{:.2f}) \\n\\n\".format(k,t_e-t_s,lagrangian(x,mu),x[0],x[1]))\n",
    "    #### return x,x_tab \n",
    "    return x"
   ]
  },
  {
   "cell_type": "code",
   "execution_count": null,
   "metadata": {
    "collapsed": true
   },
   "outputs": [],
   "source": []
  }
 ],
 "metadata": {
  "anaconda-cloud": {},
  "kernelspec": {
   "display_name": "Python 3",
   "language": "python",
   "name": "python3"
  },
  "language_info": {
   "codemirror_mode": {
    "name": "ipython",
    "version": 3
   },
   "file_extension": ".py",
   "mimetype": "text/x-python",
   "name": "python",
   "nbconvert_exporter": "python",
   "pygments_lexer": "ipython3",
   "version": "3.6.3"
  }
 },
 "nbformat": 4,
 "nbformat_minor": 1
}
