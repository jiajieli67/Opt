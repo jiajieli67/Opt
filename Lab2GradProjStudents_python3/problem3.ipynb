{
 "cells": [
  {
   "cell_type": "markdown",
   "metadata": {
    "collapsed": true
   },
   "source": [
    "# Problem 3\n",
    "\n",
    "\n",
    "The objective of Problem 3 is to minimize non-convex smooth Rosenbrock function $r$ on $\\mathbb{R}^2$ (unconstrained): \n",
    "\n",
    "$$\\begin{array}{rrcll}\n",
    "r: & \\mathbb{R}^2 & \\to &\\mathbb{R}\\\\\n",
    "& (x_1,x_2) & \\mapsto  &  (1-x_1)^2 + 100(x_2-x_1^2)^2\n",
    "\\end{array}$$\n",
    "<center><img src=\"Fig/3.png\" width=\"50%\"></center>"
   ]
  },
  {
   "cell_type": "markdown",
   "metadata": {},
   "source": [
    "### Function definition "
   ]
  },
  {
   "cell_type": "code",
   "execution_count": 1,
   "metadata": {
    "collapsed": true
   },
   "outputs": [],
   "source": [
    "##### Function definition\n",
    "def f(x):\n",
    "\t\"\"\"Rosenbrock.\"\"\"\n",
    "\tx1 = x[0]\n",
    "\tx2 = x[1]\n",
    "\treturn (1-x1)**2+100*(x2-x1**2)**2\n",
    "####\n",
    "\n",
    "##### Plot parameters f\n",
    "x1_min = -1.5\n",
    "x1_max = 1.55\n",
    "x2_min = -0.2\n",
    "x2_max = 1.5\n",
    "nb_points = 200\n",
    "vmin = 0\n",
    "vmax = 120\n",
    "levels = [0.05,1,5,15,50,100,200]\n",
    "title = 'Rosenbrock function'\n",
    "####"
   ]
  },
  {
   "cell_type": "markdown",
   "metadata": {
    "collapsed": true
   },
   "source": [
    "### Some parameters\n",
    "\n",
    "Before solving things numerically, some useful things can be computed:\n",
    "* Properties of $f$: lower bounds, Lipschitz constant of $\\nabla f$, strong convexity constant, etc\n",
    "* Good starting points (for hot starting e.g.)"
   ]
  },
  {
   "cell_type": "code",
   "execution_count": 1,
   "metadata": {
    "collapsed": true
   },
   "outputs": [],
   "source": [
    "###### Useful Parameters\n"
   ]
  },
  {
   "cell_type": "markdown",
   "metadata": {},
   "source": [
    "### Oracles\n",
    "\n",
    "Numerical optimization methods need callable *oracles* for properties of $f$, that is a function that, given a point $x$ in the domain of $f$, returns $f$ and/or gradient, Hessian of $f$ at point $x$. We talk about the *order* of an oracle as the number of differentiations given (0th order for just $f$, 1st order for the gradient, 2nd for gradient + Hessian).\n",
    "\n",
    "> Complete the first order oracle `f_grad`.\n"
   ]
  },
  {
   "cell_type": "code",
   "execution_count": 1,
   "metadata": {
    "collapsed": true
   },
   "outputs": [],
   "source": [
    "import numpy as np\n",
    "\n",
    "##### Gradient oracle ##### return  grandient ### To complete\n",
    "def f_grad(x):\n",
    "    x1 = x[0]\n",
    "    x2 = x[1]\n",
    "    return np.array( ( 2*(x1-1) + 400*x1*(x1**2-x2) , 200*( x2 - x1**2)  ) )\n",
    "####"
   ]
  },
  {
   "cell_type": "markdown",
   "metadata": {},
   "source": [
    "> Fill the following second order oracle `f_grad_hessian`."
   ]
  },
  {
   "cell_type": "code",
   "execution_count": 4,
   "metadata": {
    "collapsed": true
   },
   "outputs": [],
   "source": [
    "import numpy as np\n",
    "\n",
    "##### Hessian scaled Gradient computation, ####\treturn g,H ### To complete\n",
    "def f_grad_hessian(x):\n",
    "    x1 = x[0]\n",
    "    x2 = x[1]\n",
    "    g = np.array(  [ 2*(x1-1) + 400*x1*(x1**2-x2) , 200*( x2 - x1**2)  ] )\n",
    "    H = np.array(  [ ( 2 - 400*x2 + 3*400*x1**2 , -400*x1 )  ,  ( -400*x1 , 200 )  ]  )\n",
    "    return g,H\n",
    "####"
   ]
  }
 ],
 "metadata": {
  "anaconda-cloud": {},
  "kernelspec": {
   "display_name": "Python [conda root]",
   "language": "python",
   "name": "conda-root-py"
  },
  "language_info": {
   "codemirror_mode": {
    "name": "ipython",
    "version": 3
   },
   "file_extension": ".py",
   "mimetype": "text/x-python",
   "name": "python",
   "nbconvert_exporter": "python",
   "pygments_lexer": "ipython3",
   "version": "3.5.2"
  }
 },
 "nbformat": 4,
 "nbformat_minor": 1
}
