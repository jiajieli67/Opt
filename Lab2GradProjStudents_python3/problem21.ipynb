{
 "cells": [
  {
   "cell_type": "markdown",
   "metadata": {
    "collapsed": true
   },
   "source": [
    "# Problem 21\n",
    "\n",
    "\n",
    "The objective of Problem 21 is to minimize a simple quadratic function $f$ on $\\mathbb{R}^2$, constrained to $x\\ge 0$: \n",
    "\n",
    "$$\\begin{array}{rrcll}\n",
    "f: & \\mathbb{R}^2 & \\to &\\mathbb{R}\\\\\n",
    "& (x_1,x_2) & \\mapsto  & 4 (x_1-1)^2 + 2(x_2+0.5)^2\n",
    "\\end{array}$$\n",
    "<center><img src=\"Fig/1.png\" width=\"50%\"></center>"
   ]
  },
  {
   "cell_type": "markdown",
   "metadata": {},
   "source": [
    "### Function definition "
   ]
  },
  {
   "cell_type": "code",
   "execution_count": 1,
   "metadata": {
    "collapsed": true
   },
   "outputs": [],
   "source": [
    "##### Function definition\n",
    "def f(x):\n",
    "    x1 = x[0]\n",
    "    x2 = x[1]\n",
    "    return 4*(x1-1)**2+2*(x2+0.5)**2\n",
    "####\n",
    "\n",
    "##### Plot parameters f\n",
    "x1_min = -4.\n",
    "x1_max = 3.\n",
    "x2_min = -4.\n",
    "x2_max = 3.\n",
    "nb_points = 200\n",
    "vmin = 0\n",
    "vmax = 80\n",
    "levels = [0.5,1,2,5,10,15]\n",
    "title = 'f: a simple function'\n",
    "####"
   ]
  },
  {
   "cell_type": "markdown",
   "metadata": {
    "collapsed": true
   },
   "source": [
    "### Some parameters\n",
    "\n",
    "Before solving things numerically, some useful things can be computed:\n",
    "* Properties of $f$: lower bounds, Lipschitz constant of $\\nabla f$, strong convexity constant, etc\n",
    "* Good starting points (for hot starting e.g.)"
   ]
  },
  {
   "cell_type": "code",
   "execution_count": 2,
   "metadata": {
    "collapsed": true
   },
   "outputs": [],
   "source": [
    "###### Useful Parameters\n",
    "L = 8        # Lipschitz constant of the gradient"
   ]
  },
  {
   "cell_type": "markdown",
   "metadata": {},
   "source": [
    "### Oracles\n",
    "\n",
    "Numerical optimization methods need callable *oracles* for properties of $f$, that is a function that, given a point $x$ in the domain of $f$, returns $f$ and/or gradient, Hessian of $f$ at point $x$. We talk about the *order* of an oracle as the number of differentiations given (0th order for just $f$, 1st order for the gradient, 2nd for gradient + Hessian).\n",
    "\n",
    "> Observe the first order oracle `f_grad`.\n"
   ]
  },
  {
   "cell_type": "code",
   "execution_count": 3,
   "metadata": {
    "collapsed": true
   },
   "outputs": [],
   "source": [
    "import numpy as np\n",
    "\n",
    "##### Gradient oracle\n",
    "def f_grad(x):\n",
    "    x1 = x[0]\n",
    "    x2 = x[1]\n",
    "    gx = 8*(x1-1) \n",
    "    gy = 4*(x2+0.5)\n",
    "    return np.array( [ gx  ,  gy  ] )\n",
    "####"
   ]
  },
  {
   "cell_type": "markdown",
   "metadata": {},
   "source": [
    "> Fill the following second order oracle `f_grad_hessian`."
   ]
  },
  {
   "cell_type": "code",
   "execution_count": 4,
   "metadata": {
    "collapsed": true
   },
   "outputs": [],
   "source": [
    "import numpy as np\n",
    "\n",
    "##### Hessian scaled Gradient computation\n",
    "def f_grad_hessian(x):\n",
    "    x1 = x[0]\n",
    "    x2 = x[1]\n",
    "    gx = 8*(x1-1) \n",
    "    gy = 4*(x2+0.5) \n",
    "    g = np.array( [ gx  ,  gy  ] )\n",
    "    H = np.array(  [ ( 8.0 , 0 )  ,  ( 0 , 4.0 )  ]  )  ### -> To complete DONE \n",
    "    return g,H\n",
    "####"
   ]
  }
 ],
 "metadata": {
  "anaconda-cloud": {},
  "kernelspec": {
   "display_name": "Python [conda root]",
   "language": "python",
   "name": "conda-root-py"
  },
  "language_info": {
   "codemirror_mode": {
    "name": "ipython",
    "version": 3
   },
   "file_extension": ".py",
   "mimetype": "text/x-python",
   "name": "python",
   "nbconvert_exporter": "python",
   "pygments_lexer": "ipython3",
   "version": "3.5.2"
  }
 },
 "nbformat": 4,
 "nbformat_minor": 1
}
